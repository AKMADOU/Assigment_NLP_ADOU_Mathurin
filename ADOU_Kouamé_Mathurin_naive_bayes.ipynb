{
  "cells": [
    {
      "cell_type": "markdown",
      "metadata": {
        "id": "view-in-github",
        "colab_type": "text"
      },
      "source": [
        "<a href=\"https://colab.research.google.com/github/AKMADOU/Assigment_NLP_ADOU_Mathurin/blob/main/ADOU_Kouam%C3%A9_Mathurin_naive_bayes.ipynb\" target=\"_parent\"><img src=\"https://colab.research.google.com/assets/colab-badge.svg\" alt=\"Open In Colab\"/></a>"
      ]
    },
    {
      "cell_type": "markdown",
      "metadata": {
        "id": "0LIGQQKQS1qI"
      },
      "source": [
        "The goal of this lab is to implement a language identifier (LID).\n",
        "\n",
        "Our first model will be based on Naive Bayes."
      ]
    },
    {
      "cell_type": "code",
      "execution_count": 14,
      "metadata": {
        "id": "bUbraMPoS1qJ"
      },
      "outputs": [],
      "source": [
        "import io, sys, math, re\n",
        "import numpy as np\n",
        "from collections import defaultdict"
      ]
    },
    {
      "cell_type": "markdown",
      "metadata": {
        "id": "DJNqye-7S1qK"
      },
      "source": [
        "The next function is used to load the data. Each line of the data consist of a label (corresponding to a language), followed by some text, written in that language. Here is an example of data:\n",
        "\n",
        "```__label__de Zur Namensdeutung gibt es mehrere Varianten.```\n"
      ]
    },
    {
      "cell_type": "code",
      "execution_count": 2,
      "metadata": {
        "id": "RCUW6YZIS1qK"
      },
      "outputs": [],
      "source": [
        "def load_data(filename):\n",
        "    fin = io.open(filename, 'r', encoding='utf-8')\n",
        "    data = []\n",
        "    for line in fin:\n",
        "        tokens = line.split()\n",
        "        data.append((tokens[0], tokens[1:]))\n",
        "    return data"
      ]
    },
    {
      "cell_type": "markdown",
      "metadata": {
        "id": "jgO3aeOtS1qL"
      },
      "source": [
        "You can now try loading the first dataset `train1.txt` and look what examples look like."
      ]
    },
    {
      "cell_type": "code",
      "source": [
        "from google.colab import drive\n",
        "drive.mount('/content/drive')"
      ],
      "metadata": {
        "colab": {
          "base_uri": "https://localhost:8080/"
        },
        "id": "CcM_Mra4TjxP",
        "outputId": "d0583564-8453-4cbf-9506-0c0d3faea138"
      },
      "execution_count": 3,
      "outputs": [
        {
          "output_type": "stream",
          "name": "stdout",
          "text": [
            "Drive already mounted at /content/drive; to attempt to forcibly remount, call drive.mount(\"/content/drive\", force_remount=True).\n"
          ]
        }
      ]
    },
    {
      "cell_type": "code",
      "source": [
        ""
      ],
      "metadata": {
        "id": "AoMcfwYLTrpN"
      },
      "execution_count": 3,
      "outputs": []
    },
    {
      "cell_type": "code",
      "execution_count": 4,
      "metadata": {
        "id": "qrA170WvS1qL",
        "colab": {
          "base_uri": "https://localhost:8080/"
        },
        "outputId": "2cd233cd-8069-436a-f224-826d2898abec"
      },
      "outputs": [
        {
          "output_type": "stream",
          "name": "stdout",
          "text": [
            "('__label__de', ['Ich', 'würde', 'alles', 'tun,', 'um', 'dich', 'zu', 'beschützen.'])\n"
          ]
        }
      ],
      "source": [
        "data = load_data(\"/content/drive/MyDrive/NLP_Week_1_Labs_2022/session1/train1.txt\")\n",
        "print(data[0])"
      ]
    },
    {
      "cell_type": "markdown",
      "metadata": {
        "id": "x5OxceutS1qL"
      },
      "source": [
        "Next, we will start implementing the Naive Bayes method. This technique is based on word counts, and we thus need to start by implementing a function to count the words and labels of our training set.\n",
        "\n",
        "`n_examples` is the total number of examples\n",
        "\n",
        "`n_words_per_label` is the total number of words for a given label\n",
        "\n",
        "`label_counts` is the number of times a given label appears in the training data\n",
        "\n",
        "`word_counts` is the number of times a word appears with a given label"
      ]
    },
    {
      "cell_type": "code",
      "execution_count": 18,
      "metadata": {
        "id": "QaD5avq5S1qL"
      },
      "outputs": [],
      "source": [
        "def count_words(data):\n",
        "    n_examples = 0\n",
        "    n_words_per_label = defaultdict(lambda: 0)\n",
        "    label_counts = defaultdict(lambda: 0)\n",
        "    word_counts = defaultdict(lambda: defaultdict(lambda: 0.0))\n",
        "\n",
        "    for label, sentence in data:\n",
        "        for word in sentence:\n",
        "          word_counts[label][word]+=1\n",
        "        label_counts[label]+=1\n",
        "        n_examples=n_examples+1\n",
        "        n_words_per_label[label]=len(sentence)    \n",
        "            \n",
        "\n",
        "    return {'label_counts': label_counts, \n",
        "            'word_counts': word_counts, \n",
        "            'n_examples': n_examples, \n",
        "            'n_words_per_label': n_words_per_label}"
      ]
    },
    {
      "cell_type": "code",
      "source": [
        "count_words(data)"
      ],
      "metadata": {
        "id": "yF6W3wm4IxB2"
      },
      "execution_count": null,
      "outputs": []
    },
    {
      "cell_type": "markdown",
      "metadata": {
        "id": "wSwyr5d3S1qM"
      },
      "source": [
        "Next, using the word and label counts from the previous function, we can implement the prediction function.\n",
        "\n",
        "Here, `mu` is a regularization parameter (Laplace smoothing), and `sentence` is the list of words corresponding to the test example."
      ]
    },
    {
      "cell_type": "code",
      "source": [
        ""
      ],
      "metadata": {
        "id": "TGoBGG2WIVXm"
      },
      "execution_count": null,
      "outputs": []
    },
    {
      "cell_type": "code",
      "execution_count": 15,
      "metadata": {
        "id": "qQ5adaQZS1qM"
      },
      "outputs": [],
      "source": [
        "def predict(sentence, mu, label_counts, word_counts, n_examples, n_words_per_label):\n",
        "    best_label = None\n",
        "    best_score = float('-inf')\n",
        "    \n",
        "    for label in word_counts.keys():\n",
        "        score = 0.0\n",
        "        for word in sentence:\n",
        "          b=mu*len(word_counts[label])+n_words_per_label[word]\n",
        "          a=mu+word_counts[label][word]\n",
        "          score+=np.log(a/b)\n",
        "\n",
        "          if score>best_score:\n",
        "            best_score=score \n",
        "            best_label=label  \n",
        "    return best_label"
      ]
    },
    {
      "cell_type": "markdown",
      "metadata": {
        "id": "h1E32-VHS1qN"
      },
      "source": [
        "The next function will be used to evaluate the Naive Bayes model on a validation set. It computes the accuracy for a particular regularization parameter `mu`."
      ]
    },
    {
      "cell_type": "code",
      "execution_count": 16,
      "metadata": {
        "id": "TKFecPXDS1qN"
      },
      "outputs": [],
      "source": [
        "def compute_accuracy(valid_data, mu, counts):\n",
        "    accuracy = 0.0\n",
        "    for label, sentence in valid_data:\n",
        "      y_pred=predict(sentence, mu, counts[\"label_counts\"],counts[\"word_counts\"], counts[\"n_examples\"], counts[\"n_words_per_label\"])\n",
        "      if y_pred==label:\n",
        "        accuracy =accuracy+1\n",
        "    return (accuracy/len(valid_data))*100"
      ]
    },
    {
      "cell_type": "code",
      "execution_count": 17,
      "metadata": {
        "id": "Ltspsj6cS1qN",
        "colab": {
          "base_uri": "https://localhost:8080/"
        },
        "outputId": "3876322a-7098-4e02-bc50-5d2cbdbb02b7"
      },
      "outputs": [
        {
          "output_type": "stream",
          "name": "stdout",
          "text": [
            "\n",
            "** Naive Bayes **\n",
            "\n",
            "Validation accuracy: 72.900\n",
            "\n"
          ]
        }
      ],
      "source": [
        "print(\"\")\n",
        "print(\"** Naive Bayes **\")\n",
        "print(\"\")\n",
        "\n",
        "mu = 1.0\n",
        "train_data = load_data(\"/content/drive/MyDrive/NLP_Week_1_Labs_2022/session1/train1.txt\")\n",
        "valid_data = load_data(\"/content/drive/MyDrive/NLP_Week_1_Labs_2022/session1/valid1.txt\")\n",
        "counts = count_words(train_data)\n",
        "compute_accuracy(valid_data, mu, counts)\n",
        "print(\"Validation accuracy: %.3f\" % compute_accuracy(valid_data, mu, counts))\n",
        "print(\"\")"
      ]
    }
  ],
  "metadata": {
    "kernelspec": {
      "display_name": "Python 3",
      "language": "python",
      "name": "python3"
    },
    "language_info": {
      "codemirror_mode": {
        "name": "ipython",
        "version": 3
      },
      "file_extension": ".py",
      "mimetype": "text/x-python",
      "name": "python",
      "nbconvert_exporter": "python",
      "pygments_lexer": "ipython3",
      "version": "3.6.2+"
    },
    "colab": {
      "name": "ADOU_Kouamé_Mathurin_naive_bayes.ipynb",
      "provenance": [],
      "include_colab_link": true
    }
  },
  "nbformat": 4,
  "nbformat_minor": 0
}